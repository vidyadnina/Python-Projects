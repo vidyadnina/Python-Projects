{
  "metadata": {
    "kernelspec": {
      "name": "python",
      "display_name": "Python (Pyodide)",
      "language": "python"
    },
    "language_info": {
      "name": ""
    }
  },
  "nbformat_minor": 4,
  "nbformat": 4,
  "cells": [
    {
      "cell_type": "code",
      "source": "# Import required libraries\nimport pandas as pd\nimport matplotlib.pyplot as plt\n\n# Problems:\n#     1. Calculate average departure delay per routes and highest number of canceled flights, store as a DF routes_delays_cancels.\n#     2. Determine the avg aperture delays per airlines and highest number of canceled flights, store as a DF airlines_delays_cancels.\n#     3. Create 2 bar graphs: 1. show the highest number of cancellations by route called top9_route_cancels_bar 2.  highest average departure delays by airline called top9_airline_delays_bar\n#     4. Determine if 10 mile per hour wind gusts or more have a larger average departure delay for both of SEA and PDX, setting wind_response to True if so and False if not.\n\n",
      "metadata": {
        "trusted": true
      },
      "outputs": [],
      "execution_count": null
    },
    {
      "cell_type": "code",
      "source": "flights_df = pd.read_csv(\"flights2022.csv\")\nflights_weather_df = pd.read_csv(\"flights_weather2022.csv\")",
      "metadata": {
        "trusted": true
      },
      "outputs": [],
      "execution_count": null
    },
    {
      "cell_type": "code",
      "source": "\nflights_df['route'] = flights_df['origin'] + \"-\" + flights_df['dest']\n\n# avg_dep_delays_route = flights_df.groupby('route')['dep_delay'].mean().rename(\"avg_dep_delays\").reset_index()\n\n# max_cancels = flights_df[flights_df['dep_time'].isna()].groupby('route').size().reset_index(name='cancelled_flights')\n\n# routes_delays_cancels = pd.merge(avg_dep_delays_route, max_cancels, on='route', how='left')\n\nroutes_delays_cancels = flights_df.groupby('route').agg(\n    avg_dep_delay=(\"dep_delay\", \"mean\"),\n    total_cancellations=(\"dep_time\", lambda x: x.isna().sum())\n).reset_index()\n\nairlines_delays_cancels = flights_df.groupby(\"airline\").agg(\n    avg_dep_delay=(\"dep_delay\", \"mean\"),\n    total_cancellations=(\"dep_time\", lambda x: x.isna().sum())\n).reset_index()\n\ntop_routes_by_cancellations_route_cancels = routes_delays_cancels.sort_values(by='total_cancellations', ascending=False).head(9)\n\ntop_airlines_by_cancellations = airlines_delays_cancels.sort_values(by='total_cancellations', ascending=False).head(9)\n\nplt.figure(figsize=(10, 5))\nplt.bar(top9_route_cancels['route'], top9_route_cancels['cancelled_flights'])\nplt.title('Top 9 Routes by Number of Cancellations')\nplt.xlabel('Route')\nplt.ylabel('Number of Cancellations')\nplt.xticks(rotation=45)\nplt.show()\n\nplt.figure(figsize=(10, 5))\nplt.bar(top9_airline_cancels['airline'], top9_airline_cancels['cancelled_flights'])\nplt.title('Top 9 Airlines by Number of Cancellations')\nplt.xlabel('Airline')\nplt.ylabel('Number of Cancellations')\nplt.xticks(rotation=45)\nplt.show()\n\nflights_weather_df[\"group\"] = flights_weather_df[\"wind_gust\"].apply(lambda x: \">= 10mph\" if x >= 10 else \"< 10 mph\")\n\nwind_grouped_data = flights_weather_df.groupby([\"group\", \"origin\"]).agg(\n    mean_dep_delay=(\"dep_delay\", \"mean\")\n).reset_index()\n\n# Determine if 10 mile per hour wind gusts or more have a larger average departure delay for both SEA and PDX\nsea_wind_delay = wind_grouped_data[(wind_grouped_data['origin'] == 'SEA') & (wind_grouped_data['group'] == '>= 10mph')]['mean_dep_delay'].values[0]\npdx_wind_delay = wind_grouped_data[(wind_grouped_data['origin'] == 'PDX') & (wind_grouped_data['group'] == '>= 10mph')]['mean_dep_delay'].values[0]\n\nsea_no_wind_delay = wind_grouped_data[(wind_grouped_data['origin'] == 'SEA') & (wind_grouped_data['group'] == '< 10 mph')]['mean_dep_delay'].values[0]\npdx_no_wind_delay = wind_grouped_data[(wind_grouped_data['origin'] == 'PDX') & (wind_grouped_data['group'] == '< 10 mph')]['mean_dep_delay'].values[0]\n\nwind_response = (sea_wind_delay > sea_no_wind_delay) and (pdx_wind_delay > pdx_no_wind_delay)\nprint(\"Wind response:\", wind_response)\n",
      "metadata": {
        "trusted": true
      },
      "outputs": [],
      "execution_count": null
    }
  ]
}